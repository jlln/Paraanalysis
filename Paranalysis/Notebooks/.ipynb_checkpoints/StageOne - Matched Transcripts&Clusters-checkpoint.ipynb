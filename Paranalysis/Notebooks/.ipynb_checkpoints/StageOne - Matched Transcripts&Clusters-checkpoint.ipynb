{
 "metadata": {
  "name": ""
 },
 "nbformat": 3,
 "nbformat_minor": 0,
 "worksheets": [
  {
   "cells": [
    {
     "cell_type": "heading",
     "level": 1,
     "metadata": {},
     "source": [
      "StageOne.py - Take the clusters produced by Paralyzer, and identify transcripts which could contain those clusters."
     ]
    },
    {
     "cell_type": "heading",
     "level": 4,
     "metadata": {},
     "source": [
      "In this example series, input files and working directories are hardcoded. In practice, these are provided by the user as command line arguments when invoking the script."
     ]
    },
    {
     "cell_type": "code",
     "collapsed": false,
     "input": [
      "##This script accepts Paralyzer output files (to be listed as arguments on the command line), and requires a \n",
      "##copy of UCSC_transcripts.txt to be in the directory.\n",
      "import pandas\n",
      "import numpy as np\n",
      "import os\n",
      "import cPickle as pickle\n",
      "import sys\n",
      "\n",
      "ucsc_db=pandas.read_csv(\"UCSC_transcripts.txt\",delim_whitespace=True,low_memory=False) \n",
      "# From the UCSC Database; a list of transcripts.\n",
      "\n",
      "ucsc_names=pandas.read_csv('UCSC_genenames.csv')                      \n",
      "#To get meaningful names for the ucsc transcriptIds.\n",
      "\n",
      "# input_filenames=sys.argv[1:]\n",
      "input_filenames=['MiSeqSFPQc.csv','MiSeqNONOc.csv']"
     ],
     "language": "python",
     "metadata": {},
     "outputs": [],
     "prompt_number": 17
    },
    {
     "cell_type": "code",
     "collapsed": false,
     "input": [
      "datasets=[]\n",
      "dataset_names=[]\n",
      "for f in input_filenames:\n",
      "    dataset_names.append(f[:16])\n",
      "\n",
      "n_transcripts=len(ucsc_db)\n",
      "\n",
      "def match_check(transcript):\n",
      "    if transcript['txStart']<clusterEnd:\n",
      "        if transcript['txEnd']>clusterStart:\n",
      "            transcripts.append(transcript['#name'])\n",
      "\n",
      "\n",
      "clusters_dict={}\n",
      "clusters_by_transcripts_dict={}\n",
      "matched_transcripts_dict={}\n",
      "\n",
      "#Establish Output Directory\n",
      "transcript_output_directory_name='_'.join(dataset_names)+\"Transcripts\"\n",
      "transcript_output_directory=\"./\"+transcript_output_directory_name+\"/\"\n",
      "if not os.path.exists(transcript_output_directory):\n",
      "    os.makedirs(transcript_output_directory)"
     ],
     "language": "python",
     "metadata": {},
     "outputs": [],
     "prompt_number": 18
    },
    {
     "cell_type": "heading",
     "level": 2,
     "metadata": {},
     "source": [
      "First identify which transcripts contain each cluster, then identify which clusters are contained within each of those transcripts. "
     ]
    },
    {
     "cell_type": "code",
     "collapsed": false,
     "input": [
      "#First identify which transcripts contain each cluster.\n",
      "for dataset in input_filenames:                                           \n",
      "    clusters=pandas.read_csv(dataset)\n",
      "    dataset=dataset[:16]\n",
      "    datasets.append(dataset)\n",
      "    clusters_dict[dataset]=clusters\n",
      "    if os.path.isfile(transcript_output_directory+\"%smatchedreads.csv\"%(dataset)) is True:               #checking if the dataset has already been processed,because this step is relatively slow\n",
      "        \n",
      "        clusters=pandas.read_csv(transcript_output_directory+\"%smatchedreads.csv\"%(dataset))\n",
      "        transcripts_list=clusters['transcripts'].tolist()\n",
      "        matched_transcripts=[]\n",
      "        for transcript in transcripts_list:\n",
      "            for g in transcript[1:-1].split(\", \"):\n",
      "                if len(g)>2:\n",
      "                    matched_transcripts.append(g[1:-1])\n",
      "        matched_transcripts=frozenset(matched_transcripts)\n",
      "        \n",
      "        \n",
      "    else:    \n",
      "        transcripts_list=[]\n",
      "        \n",
      "        \n",
      "        for cluster in clusters.iterrows():\n",
      "            transcripts=[]\n",
      "            c=cluster[1]\n",
      "            cluster_transcripts=[]\n",
      "            chromosome=c['Chromosome']\n",
      "            clusterStart=c['ClusterStart']\n",
      "            clusterEnd=c['ClusterEnd']\n",
      "            transcripts_on_read_chromosome=ucsc_db[ucsc_db['chrom']==chromosome]\n",
      "            possible_transcripts = transcripts_on_read_chromosome[transcripts_on_read_chromosome['txStart']<clusterEnd]\n",
      "            possible_transcripts=possible_transcripts[possible_transcripts['txEnd']>clusterStart]\n",
      "            \n",
      "            transcripts_list.append(possible_transcripts[\"#name\"].tolist())\n",
      "\n",
      "       \n",
      "        clusters['transcripts']=pandas.Series(transcripts_list)\n",
      "        \n",
      "        clusters.to_csv(transcript_output_directory+\"%smatchedreads.csv\"%(dataset))\n",
      "        matched_transcripts=[]\n",
      "        for l in transcripts_list:\n",
      "            for transcript in l:\n",
      "                matched_transcripts.append(transcript)\n",
      "        matched_transcripts=frozenset(matched_transcripts)\n",
      "        \n",
      "\n",
      "        \n",
      "    \n",
      "    \n",
      "    \n",
      "\n",
      "\n",
      "#Second, do the reverse, ie identify the clusters that are contained within each transcript, and merge with the ucsc table. \n",
      "#Store the resulting dataframes in a dicionary keyed to the dataset.\n",
      "    clusters_lists=[]\n",
      "\n",
      "    for transcript in matched_transcripts:\n",
      "        f=lambda x:transcript in x\n",
      "        mask=clusters['transcripts'].apply(f)\n",
      "        clusters_lists.append((clusters[mask]['ClusterID']).values)\n",
      "    \n",
      "    matched_transcripts=list(matched_transcripts)\n",
      "    \n",
      "    index_matched_transcripts=range(len(matched_transcripts))\n",
      "    read_counts=clusters['ReadCount']\n",
      "    \n",
      "        \n",
      "        \n",
      "    d={\"transcript\":matched_transcripts,\n",
      "\"reads\":clusters_lists}\n",
      "    matched_df=pandas.DataFrame(d,index=index_matched_transcripts)\n",
      "    \n",
      "    \n",
      "\n",
      "    \n",
      "    ucsc_transcript_merge=pandas.merge(matched_df,ucsc_db,left_on='transcript',right_on=\"#name\",how=\"left\")\n",
      "    \n",
      "    \n",
      "    label=[dataset]*len(ucsc_transcript_merge)\n",
      "    ucsc_transcript_merge['dataset']=label\n",
      "\n",
      "    \n",
      "    clusters_by_transcripts_dict[dataset]=ucsc_transcript_merge"
     ],
     "language": "python",
     "metadata": {},
     "outputs": []
    },
    {
     "cell_type": "heading",
     "level": 2,
     "metadata": {},
     "source": [
      "Thirdly, make a table, which, for each transcript, lists the matched clusters from each dataset."
     ]
    },
    {
     "cell_type": "code",
     "collapsed": false,
     "input": [
      "dataset_dfs_to_merge=[]\n",
      "column_names_in_merged_df=['transcript']\n",
      "transcripts_with_clusters=clusters_by_transcripts_dict[datasets[0]]\n",
      "colnames=transcripts_with_clusters.columns\n",
      "colnames=list(colnames)\n",
      "colnames[0]=datasets[0]\n",
      "transcripts_with_clusters.columns=colnames\n",
      "transcripts_with_clusters=transcripts_with_clusters[['transcript',datasets[0]]]\n",
      "\n",
      "for dataset in datasets[1:]:\n",
      "    dataset_clusters=clusters_by_transcripts_dict[dataset][['transcript','reads']]\n",
      "    dataset_clusters.columns=['transcript',dataset]\n",
      "    dataset_dfs_to_merge.append(dataset_clusters)\n",
      "    transcripts_with_clusters=pandas.merge(left=transcripts_with_clusters,right=dataset_clusters,on='transcript',how='outer')\n",
      "    \n",
      "transcripts_with_clusters_df=pandas.merge(left=transcripts_with_clusters,right=ucsc_db,left_on='transcript',right_on='#name',how='left')\n",
      "named_transcripts_with_clusters_df=pandas.merge(transcripts_with_clusters_df,ucsc_names,left_on=\"#name\",right_on=\"#kgID\",how=\"left\")\n",
      "\n",
      "\n",
      "\n",
      "named_transcripts_with_clusters_df.to_csv(transcript_output_directory+'named_transcripts_with_cluster.csv')"
     ],
     "language": "python",
     "metadata": {},
     "outputs": []
    },
    {
     "cell_type": "heading",
     "level": 2,
     "metadata": {},
     "source": [
      "Fourth, prepare a dataframe for each transcript containing clusters."
     ]
    },
    {
     "cell_type": "code",
     "collapsed": false,
     "input": [
      "#Step Four: Produce a dataframe for each transcript containing clusters. \n",
      "#5 columns:clusterID,conversioneventcount,dataset,cluster_start,cluster_end. \n",
      "#Only the nucleotides within clusters are described. \n",
      "#Nucleotides are numbered by distance from the transcript start site as described in the UCSC database.\n",
      "\n",
      "def retrieve_clusters(transcript):    \n",
      "\n",
      "    \n",
      "    transcript_name=transcript['#name']\n",
      "   \n",
      "    df_clusterID=[]\n",
      "    df_dataset=[]\n",
      "    df_conversioneventcount=[]\n",
      "    df_cluster_start=[]\n",
      "    df_cluster_end=[]\n",
      "\n",
      "    start_coord=transcript['txStart']\n",
      "    end_coord=transcript['txEnd']\n",
      "    for dataset in datasets:\n",
      "        \n",
      "        clusters=transcript[dataset]                #retrieve the clusters of that dataset(if any) matched to the transcript.\n",
      "        clusters_dataframe=clusters_dict[dataset]   #The original clusters dataset, from which the additional cluster data will be retrieved.\n",
      "\n",
      "        if type(clusters) is not float:             #Pandas considers empty cells to be floats\n",
      "            for clusterID in clusters:\n",
      "                cluster=clusters_dataframe[clusters_dataframe['ClusterID']==clusterID]\n",
      "                \n",
      "                conversion_event_count=cluster['ConversionEventCount'].values[0]\n",
      "                cluster_start=cluster['ClusterStart'].values[0]\n",
      "                cluster_end=cluster['ClusterEnd'].values[0]\n",
      "                df_clusterID.append(clusterID)\n",
      "                df_dataset.append(dataset)\n",
      "                df_conversioneventcount.append(conversion_event_count)\n",
      "                df_cluster_start.append(cluster_start-start_coord)\n",
      "                df_cluster_end.append(cluster_end-start_coord)\n",
      "\n",
      "\n",
      "\n",
      "            \n",
      "    \n",
      "\n",
      "    df_dict={'Dataset':df_dataset,\n",
      "    \"ClusterID\":df_clusterID,\n",
      "    \"ConversionEventCount\":df_conversioneventcount,\n",
      "    \"ClusterStart\":df_cluster_start,\n",
      "    \"ClusterEnd\":df_cluster_end}\n",
      "\n",
      "    df=pandas.DataFrame(df_dict)\n",
      "\n",
      "\n",
      "    output_path=transcript_output_directory+transcript_name+'.csv'\n",
      "    \n",
      "    df.to_csv(output_path)\n",
      "    \n",
      "    transcript_cluster_files.append(transcript_output_directory+transcript_name+'.csv')\n",
      "\n",
      "transcript_cluster_files=[]\n",
      "transcripts_with_clusters_df.apply(retrieve_clusters,axis=1)\n",
      "\n",
      "transcripts_reads_filenames={\"File\":transcript_cluster_files}\n",
      "transcripts_reads_filenames=pandas.DataFrame(transcripts_reads_filenames)\n",
      "\n",
      "transcripts_reads_filenames.to_csv(transcript_output_directory+'transcript_list.csv')"
     ],
     "language": "python",
     "metadata": {},
     "outputs": []
    },
    {
     "cell_type": "heading",
     "level": 2,
     "metadata": {},
     "source": [
      "Step Five: Create initial annotations for each of the transcripts previously identified. "
     ]
    },
    {
     "cell_type": "code",
     "collapsed": false,
     "input": [
      "#Each transcript gets its own annotation csv file, naming is \n",
      "#as above, but suffixed with 'annotation'.\n",
      "def create_annotations(transcript):\n",
      "  \n",
      "    feature_start=[]\n",
      "    feature_end=[]\n",
      "    feature_type=[]\n",
      "    \n",
      "    transcript_name=transcript['#name']\n",
      "    list_of_transcripts.append(transcript_name)\n",
      "    txStart=transcript['txStart']\n",
      "    txEnd=transcript['txEnd']\n",
      "    feature_start.append(txStart)\n",
      "    cdsStart=transcript['cdsStart']\n",
      "    cdsEnd=transcript['cdsEnd']\n",
      "\n",
      "    \n",
      "    if cdsStart==cdsEnd:\n",
      "        feature_end.append(txEnd)\n",
      "        feature_type.append(\"Untranslated Transcript\")\n",
      "        translated_untranslated_transcripts.append(transcript_name)\n",
      "        translated_untranslated_status.append(\"Untranslated\")\n",
      "        \n",
      "    else:\n",
      "        feature_end.append(cdsStart)\n",
      "        feature_type.append(\"5'-UTR\")\n",
      "        feature_start.append(cdsEnd)\n",
      "        feature_end.append(txEnd)\n",
      "        feature_type.append(\"3'-UTR\")\n",
      "        translated_untranslated_transcripts.append(transcript_name)\n",
      "        translated_untranslated_status.append(\"Translated\")\n",
      "        \n",
      "    n_exons=transcript['exonCount']\n",
      "\n",
      "    exon_starts=(transcript['exonStarts']).split(\",\")[:-1]\n",
      "    exon_starts[:]=[int(x) for x in exon_starts]\n",
      "      \n",
      "    \n",
      "    exon_ends=(transcript['exonEnds']).split(\",\")[:-1]\n",
      "    exon_ends[:]=[int(x) for x in exon_ends]\n",
      "      \n",
      "\n",
      "    feature_start.extend(exon_starts)\n",
      "    feature_end.extend(exon_ends)\n",
      "    feature_type.extend(['Exon']*n_exons)\n",
      "\n",
      "    d={'feature_start':feature_start,\n",
      "    'feature_end':feature_end,\n",
      "    'feature_type':feature_type}\n",
      "    df=pandas.DataFrame(d)\n",
      "    outputname=transcript_output_directory+transcript_name+'annotations'+'.csv'\n",
      "    df.to_csv(outputname)\n",
      "    annotation_filenames.append(outputname)\n",
      "    \n",
      "   \n",
      "    \n",
      "    \n",
      "\n",
      "annotation_filenames=[]\n",
      "list_of_transcripts=[]  #for the index in step six.\n",
      "#Two lists to keep track of transcript translation status: one list of transcript names and one list of translation statuses.\n",
      "translated_untranslated_transcripts=[]\n",
      "translated_untranslated_status=[]\n",
      "\n",
      "\n",
      "transcripts_with_clusters_df.apply(create_annotations,axis=1)"
     ],
     "language": "python",
     "metadata": {},
     "outputs": []
    },
    {
     "cell_type": "heading",
     "level": 2,
     "metadata": {},
     "source": [
      "Step Six: Create csv file indexes to assist downstream scripts."
     ]
    },
    {
     "cell_type": "code",
     "collapsed": false,
     "input": [
      "cluster_and_transcript_annotation_file_index={\"Transcript_Clusters\":transcript_cluster_files,\n",
      "                                                \"Transcript_Annotation\":annotation_filenames}\n",
      "\n",
      "\n",
      "\n",
      "cluster_and_transcript_annotation_file_index=pandas.DataFrame(cluster_and_transcript_annotation_file_index)\n",
      "cluster_and_transcript_annotation_file_index.to_csv(transcript_output_directory+\"cluster_and_transcript_annotation_file_index.csv\")"
     ],
     "language": "python",
     "metadata": {},
     "outputs": []
    },
    {
     "cell_type": "heading",
     "level": 2,
     "metadata": {},
     "source": [
      "Step Seven: ClusterCounts for untranslated and translated transcripts"
     ]
    },
    {
     "cell_type": "code",
     "collapsed": false,
     "input": [
      "cluster_counts={}\n",
      "for d in datasets:\n",
      "    cluster_counts[d]=[]\n",
      "\n",
      "for transcript in translated_untranslated_transcripts:\n",
      "    for d in datasets:\n",
      "        if type(transcripts_with_clusters_df[transcripts_with_clusters_df[\"#name\"]==transcript][d].values[0]) is float:    #empty cell test; pandas considers empty cells as floats.\n",
      "            cluster_counts[d].append(0)\n",
      "        else:\n",
      "            \n",
      "            cluster_counts[d].append(len(transcripts_with_clusters_df[transcripts_with_clusters_df[\"#name\"]==transcript][d].values[0]))\n",
      "\n",
      "\n",
      "translation={\"Transcript\":translated_untranslated_transcripts,\"Translation_Status\":translated_untranslated_status}\n",
      "\n",
      "translation=pandas.DataFrame(translation)\n",
      "\n",
      "for d in datasets:\n",
      "    translation[d]=pandas.Series(cluster_counts[d],index=translation.index)\n",
      "\n",
      "translation.to_csv(transcript_output_directory+\"Translation_Status.csv\")\n",
      "\n",
      "grouped_by_translation_status=translation.groupby('Translation_Status')\n",
      "\n",
      "translation_status_summary=grouped_by_translation_status.aggregate(np.sum).reindex()\n",
      "\n",
      "\n",
      "translation_status_summary.to_csv(transcript_output_directory+\"_Translation_Status_Totals.csv\")\n",
      "\n",
      "\n",
      "\n",
      "print \"Output directory (provide as argument to StageTwo.py):\"\n",
      "print transcript_output_directory"
     ],
     "language": "python",
     "metadata": {},
     "outputs": []
    },
    {
     "cell_type": "heading",
     "level": 1,
     "metadata": {},
     "source": [
      "The script ends here, but we can take a look at the translation status totals."
     ]
    },
    {
     "cell_type": "heading",
     "level": 3,
     "metadata": {},
     "source": [
      "This represents the number of translated and untranslated transcripts with the potential to contain the clusters of the dataset."
     ]
    },
    {
     "cell_type": "code",
     "collapsed": false,
     "input": [
      "translation.head()\n",
      "#Just the first five rows.\n"
     ],
     "language": "python",
     "metadata": {},
     "outputs": [
      {
       "html": [
        "<div style=\"max-height:1000px;max-width:1500px;overflow:auto;\">\n",
        "<table border=\"1\" class=\"dataframe\">\n",
        "  <thead>\n",
        "    <tr style=\"text-align: right;\">\n",
        "      <th></th>\n",
        "      <th>Transcript</th>\n",
        "      <th>Translation_Status</th>\n",
        "      <th>MiSeqSFPQc.csv</th>\n",
        "      <th>MiSeqNONOc.csv</th>\n",
        "    </tr>\n",
        "  </thead>\n",
        "  <tbody>\n",
        "    <tr>\n",
        "      <th>0</th>\n",
        "      <td> uc010pwa.1</td>\n",
        "      <td> Translated</td>\n",
        "      <td> 2</td>\n",
        "      <td> 0</td>\n",
        "    </tr>\n",
        "    <tr>\n",
        "      <th>1</th>\n",
        "      <td> uc002sbj.3</td>\n",
        "      <td> Translated</td>\n",
        "      <td> 2</td>\n",
        "      <td> 1</td>\n",
        "    </tr>\n",
        "    <tr>\n",
        "      <th>2</th>\n",
        "      <td> uc010iub.3</td>\n",
        "      <td> Translated</td>\n",
        "      <td> 3</td>\n",
        "      <td> 0</td>\n",
        "    </tr>\n",
        "    <tr>\n",
        "      <th>3</th>\n",
        "      <td> uc001sut.4</td>\n",
        "      <td> Translated</td>\n",
        "      <td> 1</td>\n",
        "      <td> 0</td>\n",
        "    </tr>\n",
        "    <tr>\n",
        "      <th>4</th>\n",
        "      <td> uc010ugm.1</td>\n",
        "      <td> Translated</td>\n",
        "      <td> 1</td>\n",
        "      <td> 0</td>\n",
        "    </tr>\n",
        "  </tbody>\n",
        "</table>\n",
        "</div>"
       ],
       "metadata": {},
       "output_type": "pyout",
       "prompt_number": 20,
       "text": [
        "   Transcript Translation_Status  MiSeqSFPQc.csv  MiSeqNONOc.csv\n",
        "0  uc010pwa.1         Translated               2               0\n",
        "1  uc002sbj.3         Translated               2               1\n",
        "2  uc010iub.3         Translated               3               0\n",
        "3  uc001sut.4         Translated               1               0\n",
        "4  uc010ugm.1         Translated               1               0"
       ]
      }
     ],
     "prompt_number": 20
    },
    {
     "cell_type": "code",
     "collapsed": false,
     "input": [
      "translation_status_summary"
     ],
     "language": "python",
     "metadata": {},
     "outputs": [
      {
       "html": [
        "<div style=\"max-height:1000px;max-width:1500px;overflow:auto;\">\n",
        "<table border=\"1\" class=\"dataframe\">\n",
        "  <thead>\n",
        "    <tr style=\"text-align: right;\">\n",
        "      <th></th>\n",
        "      <th>MiSeqSFPQc.csv</th>\n",
        "      <th>MiSeqNONOc.csv</th>\n",
        "    </tr>\n",
        "    <tr>\n",
        "      <th>Translation_Status</th>\n",
        "      <th></th>\n",
        "      <th></th>\n",
        "    </tr>\n",
        "  </thead>\n",
        "  <tbody>\n",
        "    <tr>\n",
        "      <th>Translated</th>\n",
        "      <td> 566</td>\n",
        "      <td> 462</td>\n",
        "    </tr>\n",
        "    <tr>\n",
        "      <th>Untranslated</th>\n",
        "      <td> 266</td>\n",
        "      <td> 257</td>\n",
        "    </tr>\n",
        "  </tbody>\n",
        "</table>\n",
        "</div>"
       ],
       "metadata": {},
       "output_type": "pyout",
       "prompt_number": 21,
       "text": [
        "                    MiSeqSFPQc.csv  MiSeqNONOc.csv\n",
        "Translation_Status                                \n",
        "Translated                     566             462\n",
        "Untranslated                   266             257"
       ]
      }
     ],
     "prompt_number": 21
    },
    {
     "cell_type": "heading",
     "level": 3,
     "metadata": {},
     "source": [
      "Transpose for plotting and normalize to percentages."
     ]
    },
    {
     "cell_type": "code",
     "collapsed": false,
     "input": [
      "translation_summary=translation_status_summary.T\n",
      "translation_summary=translation_summary.div(translation_summary.sum(axis=1), axis=0)*100\n"
     ],
     "language": "python",
     "metadata": {},
     "outputs": [],
     "prompt_number": 25
    },
    {
     "cell_type": "code",
     "collapsed": false,
     "input": [
      "import matplotlib.pyplot as plt\n",
      "%matplotlib inline"
     ],
     "language": "python",
     "metadata": {},
     "outputs": [],
     "prompt_number": 23
    },
    {
     "cell_type": "code",
     "collapsed": false,
     "input": [
      "translation_status_summary\n"
     ],
     "language": "python",
     "metadata": {},
     "outputs": [
      {
       "html": [
        "<div style=\"max-height:1000px;max-width:1500px;overflow:auto;\">\n",
        "<table border=\"1\" class=\"dataframe\">\n",
        "  <thead>\n",
        "    <tr style=\"text-align: right;\">\n",
        "      <th></th>\n",
        "      <th>MiSeqSFPQc.csv</th>\n",
        "      <th>MiSeqNONOc.csv</th>\n",
        "    </tr>\n",
        "    <tr>\n",
        "      <th>Translation_Status</th>\n",
        "      <th></th>\n",
        "      <th></th>\n",
        "    </tr>\n",
        "  </thead>\n",
        "  <tbody>\n",
        "    <tr>\n",
        "      <th>Translated</th>\n",
        "      <td> 566</td>\n",
        "      <td> 462</td>\n",
        "    </tr>\n",
        "    <tr>\n",
        "      <th>Untranslated</th>\n",
        "      <td> 266</td>\n",
        "      <td> 257</td>\n",
        "    </tr>\n",
        "  </tbody>\n",
        "</table>\n",
        "</div>"
       ],
       "metadata": {},
       "output_type": "pyout",
       "prompt_number": 40,
       "text": [
        "                    MiSeqSFPQc.csv  MiSeqNONOc.csv\n",
        "Translation_Status                                \n",
        "Translated                     566             462\n",
        "Untranslated                   266             257"
       ]
      }
     ],
     "prompt_number": 40
    },
    {
     "cell_type": "code",
     "collapsed": false,
     "input": [
      "pandas.options.display.mpl_style = 'default'\n",
      "translation_summary.plot(kind=\"bar\", stacked = True,figsize=(10, 10),title = \"Normalized percentages of translated and untranslated transcripts within matched transcripts.\")"
     ],
     "language": "python",
     "metadata": {},
     "outputs": [
      {
       "metadata": {},
       "output_type": "pyout",
       "prompt_number": 41,
       "text": [
        "<matplotlib.axes._subplots.AxesSubplot at 0x10706a2d0>"
       ]
      },
      {
       "metadata": {},
       "output_type": "display_data",
       "png": "[encoded data removed]",
       "text": [
        "<matplotlib.figure.Figure at 0x108d3f090>"
       ]
      }
     ],
     "prompt_number": 41
    }
   ],
   "metadata": {}
  }
 ]
}