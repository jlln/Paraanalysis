{
 "metadata": {
  "name": "",
  "signature": "sha256:f03d4a9508ea1f16877d158d2b924f1d8d7abde2fac2b4caef9d724f0943e355"
 },
 "nbformat": 3,
 "nbformat_minor": 0,
 "worksheets": [
  {
   "cells": [
    {
     "cell_type": "heading",
     "level": 2,
     "metadata": {},
     "source": [
      "Comparison of results from MiSeq and Ion-torrent experiments."
     ]
    },
    {
     "cell_type": "code",
     "collapsed": false,
     "input": [
      "import pandas"
     ],
     "language": "python",
     "metadata": {},
     "outputs": [],
     "prompt_number": 1
    },
    {
     "cell_type": "code",
     "collapsed": false,
     "input": [
      "New_Ion_dir=\"IonXpress_SFPQ_N_IonXpress_NONO_NTranscripts/\"\n",
      "Old_Ion_dir=\"IonXpress_NONO_c_IonXpress_SFPQt1Transcripts/\"\n",
      "MiSeq_dir=\"MiSeqSFPQc.csv_MiSeqNONOc.csvTranscripts/\""
     ],
     "language": "python",
     "metadata": {},
     "outputs": [],
     "prompt_number": 2
    },
    {
     "cell_type": "code",
     "collapsed": false,
     "input": [
      "New_Ion_SFPQ=pandas.read_csv(New_Ion_dir+\"IonXpress_SFPQ_Nmatchedreads.csv\")\n",
      "New_Ion_NONO=pandas.read_csv(New_Ion_dir+\"IonXpress_NONO_Nmatchedreads.csv\")\n",
      "Old_Ion_SFPQ=pandas.read_csv(Old_Ion_dir+\"IonXpress_SFPQt1matchedreads.csv\")\n",
      "Old_Ion_NONO=pandas.read_csv(Old_Ion_dir+\"IonXpress_NONO_cmatchedreads.csv\")\n",
      "MiSeq_SFPQ=pandas.read_csv(MiSeq_dir+\"MiSeqSFPQc.csvmatchedreads.csv\")\n",
      "MiSeq_NONO=pandas.read_csv(MiSeq_dir+\"MiSeqNONOc.csvmatchedreads.csv\")\n"
     ],
     "language": "python",
     "metadata": {},
     "outputs": [],
     "prompt_number": 3
    },
    {
     "cell_type": "code",
     "collapsed": false,
     "input": [
      "def gather_transcripts(cluster,list_of_transcripts):\n",
      "    cluster_transcripts=cluster['transcripts']\n",
      "    cluster_transcripts=eval(cluster_transcripts)\n",
      "    list_of_transcripts.extend(cluster_transcripts)"
     ],
     "language": "python",
     "metadata": {},
     "outputs": [],
     "prompt_number": 5
    },
    {
     "cell_type": "code",
     "collapsed": false,
     "input": [
      "New_Ion_Transcripts=[]\n",
      "New_Ion_NONO.apply(gather_transcripts,axis=1,args=([New_Ion_Transcripts]))\n",
      "New_Ion_SFPQ.apply(gather_transcripts,axis=1,args=([New_Ion_Transcripts]))\n",
      "Old_Ion_Transcripts=[]\n",
      "Old_Ion_NONO.apply(gather_transcripts,axis=1,args=([Old_Ion_Transcripts]))\n",
      "Old_Ion_SFPQ.apply(gather_transcripts,axis=1,args=([Old_Ion_Transcripts]))\n",
      "MiSeq_Transcripts=[]\n",
      "MiSeq_NONO.apply(gather_transcripts,axis=1,args=([MiSeq_Transcripts]))\n",
      "MiSeq_SFPQ.apply(gather_transcripts,axis=1,args=([MiSeq_Transcripts]))"
     ],
     "language": "python",
     "metadata": {},
     "outputs": [
      {
       "metadata": {},
       "output_type": "pyout",
       "prompt_number": 6,
       "text": [
        "0     None\n",
        "1     None\n",
        "2     None\n",
        "3     None\n",
        "4     None\n",
        "5     None\n",
        "6     None\n",
        "7     None\n",
        "8     None\n",
        "9     None\n",
        "10    None\n",
        "11    None\n",
        "12    None\n",
        "13    None\n",
        "14    None\n",
        "...\n",
        "462    None\n",
        "463    None\n",
        "464    None\n",
        "465    None\n",
        "466    None\n",
        "467    None\n",
        "468    None\n",
        "469    None\n",
        "470    None\n",
        "471    None\n",
        "472    None\n",
        "473    None\n",
        "474    None\n",
        "475    None\n",
        "476    None\n",
        "Length: 477, dtype: object"
       ]
      }
     ],
     "prompt_number": 6
    },
    {
     "cell_type": "code",
     "collapsed": false,
     "input": [
      "MiSeq_Transcripts=set(MiSeq_Transcripts)\n",
      "New_Ion_Transcripts=set(New_Ion_Transcripts)\n",
      "Old_Ion_Transcripts=set(Old_Ion_Transcripts)"
     ],
     "language": "python",
     "metadata": {},
     "outputs": [],
     "prompt_number": 7
    },
    {
     "cell_type": "code",
     "collapsed": false,
     "input": [
      "from matplotlib import pyplot as plt\n",
      "import numpy as np\n",
      "from matplotlib_venn import venn2\n",
      "%matplotlib inline\n",
      "venn2([MiSeq_Transcripts,Old_Ion_Transcripts],('MiSeq','Original Ion Torrent Settings'))\n",
      "len(MiSeq_Transcripts),len(MiSeq_Transcripts.intersection(Old_Ion_Transcripts)),len(Old_Ion_Transcripts)"
     ],
     "language": "python",
     "metadata": {},
     "outputs": [
      {
       "metadata": {},
       "output_type": "pyout",
       "prompt_number": 8,
       "text": [
        "(569, 88, 542)"
       ]
      },
      {
       "metadata": {},
       "output_type": "display_data",
       "png": "[encoded data removed]",
       "text": [
        "<matplotlib.figure.Figure at 0x108c9bf90>"
       ]
      }
     ],
     "prompt_number": 8
    },
    {
     "cell_type": "code",
     "collapsed": false,
     "input": [
      "venn2([New_Ion_Transcripts,Old_Ion_Transcripts],('Relaxed Ion Torrent Settings','Original Ion Torrent Settings'))\n",
      "len(New_Ion_Transcripts),len(New_Ion_Transcripts.intersection(Old_Ion_Transcripts)),len(Old_Ion_Transcripts)"
     ],
     "language": "python",
     "metadata": {},
     "outputs": [
      {
       "metadata": {},
       "output_type": "pyout",
       "prompt_number": 9,
       "text": [
        "(2238, 542, 542)"
       ]
      },
      {
       "metadata": {},
       "output_type": "display_data",
       "png": "[encoded data removed]",
       "text": [
        "<matplotlib.figure.Figure at 0x108d95450>"
       ]
      }
     ],
     "prompt_number": 9
    },
    {
     "cell_type": "code",
     "collapsed": false,
     "input": [
      "venn2([New_Ion_Transcripts,MiSeq_Transcripts],('Relaxed Ion Torrent Settings','MiSeq'))\n",
      "len(New_Ion_Transcripts),len(New_Ion_Transcripts.intersection(MiSeq_Transcripts)),len(MiSeq_Transcripts)"
     ],
     "language": "python",
     "metadata": {},
     "outputs": [
      {
       "metadata": {},
       "output_type": "pyout",
       "prompt_number": 10,
       "text": [
        "(2238, 215, 569)"
       ]
      },
      {
       "metadata": {},
       "output_type": "display_data",
       "png": "[encoded data removed]",
       "text": [
        "<matplotlib.figure.Figure at 0x107495b90>"
       ]
      }
     ],
     "prompt_number": 10
    }
   ],
   "metadata": {}
  }
 ]
}