{
 "metadata": {
  "name": ""
 },
 "nbformat": 3,
 "nbformat_minor": 0,
 "worksheets": [
  {
   "cells": [
    {
     "cell_type": "heading",
     "level": 2,
     "metadata": {},
     "source": [
      "This script finds the distances from each cluster to various features, and plots the results."
     ]
    },
    {
     "cell_type": "heading",
     "level": 4,
     "metadata": {},
     "source": [
      "Because some junction types will be more common in shorter transcripts, Relative Distance is used. This is the absolute distance divided by the length of the transcript."
     ]
    },
    {
     "cell_type": "code",
     "collapsed": false,
     "input": [
      "import pandas\n",
      "import sys\n",
      "import operator\n",
      "import numpy as np\n",
      "\n",
      "ucsc_db=pandas.read_table('UCSC_transcripts.txt')\n",
      "\n",
      "# directory=sys.argv[1] Note again that this has been commented out to allow the script to run in the notebook for this demonstration.\n",
      "directory='MiSeqSFPQc.csv_MiSeqNONOc.csvTranscripts/'\n",
      "datasets=[]\n",
      "translation_status_df=pandas.read_csv(directory+\"_Translation_Status_Totals.csv\")\n",
      "for x in translation_status_df.columns[1:]:\n",
      "\tdatasets.append(x)\n"
     ],
     "language": "python",
     "metadata": {},
     "outputs": [],
     "prompt_number": 4
    },
    {
     "cell_type": "code",
     "collapsed": false,
     "input": [
      "def get_distances(feature,cluster_start,cluster_end,clusterID,transcript_length):\n",
      "\t\n",
      "\tfeature_start=feature['feature_start']\n",
      "\tfeature_end=feature['feature_end']\n",
      "\tfeature_classification=feature['feature_classification']\n",
      "\tfeature_type=feature['feature_type']\n",
      "\tfeature_type_index=feature['feature_type_index']\n",
      "\tfeature_subtype_index=feature['feature_subtype_index']\n",
      "\t\n",
      "\tabs_distance=min([abs(cluster_start-feature_end),abs(cluster_end-feature_start),abs(cluster_start-feature_start),abs(cluster_end-feature_end)])\n",
      "\tif cluster_start<feature_end:\n",
      "\t\tif cluster_end>feature_start:\n",
      "\t\t\tabs_distance=0\n",
      "\tif feature_start<cluster_end:\n",
      "\t\tif feature_end>cluster_start:\n",
      "\t\t\tabs_distance=0\n",
      "\tif cluster_end>feature_end:\n",
      "\t\tif cluster_start<feature_start:\n",
      "\t\t\tabs_distance=0\n",
      "\tif cluster_end<feature_end:\n",
      "\t\tif cluster_start>feature_start:\n",
      "\t\t\tabs_distance=0\n",
      "\trel_distance=float(abs_distance)/transcript_length\n",
      "\t# print abs_distance\n",
      "\tdf_dataset.append(d)\n",
      "\tdf_cluster.append(clusterID)\n",
      "\tdf_feature_type.append(feature_type)\n",
      "\tdf_feature_subtype.append(feature_classification)\n",
      "\tdf_abs_distance.append(abs_distance)\n",
      "\tdf_rel_distance.append(rel_distance)\n",
      "\tdf_feature_type_index.append(feature_type_index)\n",
      "\tdf_feature_subtype_index.append(feature_subtype_index)\n",
      "\n",
      "\t"
     ],
     "language": "python",
     "metadata": {},
     "outputs": [],
     "prompt_number": 5
    },
    {
     "cell_type": "code",
     "collapsed": false,
     "input": [
      "def get_transcripts_and_distances(cluster):\n",
      "\tclusterID=cluster['ClusterID']\n",
      "\tcluster_start=cluster['ClusterStart']\n",
      "\tcluster_end=cluster['ClusterEnd']\n",
      "\ttranscripts=eval(cluster['transcripts'])\n",
      "\tfor transcript in transcripts:\n",
      "\t\ttranscript_annotation=pandas.read_csv(directory+transcript+'annotations.csv')\n",
      "\t\ttranscript_length=max(transcript_annotation['feature_end'])-min(transcript_annotation['feature_start'])\n",
      "\t\t# print transcript\n",
      "\t\ttranscript_annotation=transcript_annotation[transcript_annotation['feature_type']==\"Splice Junction \"] #Select the type of feature to look at\n",
      "\t\tif len(transcript_annotation.index)>0:\n",
      "\t\t\ttranscript_annotation.apply(get_distances,axis=1,args=(cluster_start,cluster_end,clusterID,transcript_length))"
     ],
     "language": "python",
     "metadata": {},
     "outputs": [],
     "prompt_number": 6
    },
    {
     "cell_type": "code",
     "collapsed": false,
     "input": [
      "df_dataset=[]\n",
      "df_cluster=[]\n",
      "df_feature_type=[]\n",
      "df_feature_subtype=[]\n",
      "df_feature_type_index=[]\n",
      "df_feature_subtype_index=[]\n",
      "df_rel_distance=[]\n",
      "df_abs_distance=[]\n",
      "\n",
      "for d in datasets:\n",
      "\n",
      "\tcluster_data=pandas.read_csv(directory+d+'matchedreads.csv')\n",
      "\tcluster_data.apply(get_transcripts_and_distances,axis=1)\n",
      "\n",
      "\n",
      "dict_df={\"Dataset\":df_dataset,\"Cluster\":df_cluster,\"FeatureType\":df_feature_type,\"FeatureSubtype\":df_feature_subtype,\n",
      "\"FeatureTypeIndex\":df_feature_type_index,\"FeatureSubtypeIndex\":df_feature_subtype_index,\"Absolute Distance\":df_abs_distance,\"Relative Distance\":df_rel_distance}\n",
      "results=pandas.DataFrame(dict_df)\n",
      "\n",
      "\n",
      "\n",
      "results=results.sort(['Cluster','Absolute Distance'])\n",
      "\n",
      "\n",
      "closest_features=[]\n",
      "clusters=list(set(results['Cluster'].values))\n",
      "for cluster in clusters:\n",
      "\tclosest_features.append((results[results['Cluster']==cluster]).head(1))\n",
      "\n",
      "closest=pandas.concat(closest_features)\n",
      "\n",
      "def insert_newlines(string, every=30):\n",
      "    lines = []\n",
      "    for i in xrange(0, len(string), every):\n",
      "        lines.append(string[i:i+every])\n",
      "    return '\\n'.join(lines)\n",
      "\n",
      "\n",
      "def fix_labels(row):\n",
      "\tlabel=row['feature_classification']\n",
      "\tlabel=insert_newlines(label,every=30)\n",
      "\trow['label']=label\n",
      "\n",
      "\n",
      "closest.to_csv(directory+'closest_splicing_junctions.csv')"
     ],
     "language": "python",
     "metadata": {},
     "outputs": [],
     "prompt_number": 7
    },
    {
     "cell_type": "code",
     "collapsed": false,
     "input": [
      "closest.head()"
     ],
     "language": "python",
     "metadata": {},
     "outputs": [
      {
       "html": [
        "<div style=\"max-height:1000px;max-width:1500px;overflow:auto;\">\n",
        "<table border=\"1\" class=\"dataframe\">\n",
        "  <thead>\n",
        "    <tr style=\"text-align: right;\">\n",
        "      <th></th>\n",
        "      <th>Absolute Distance</th>\n",
        "      <th>Cluster</th>\n",
        "      <th>Dataset</th>\n",
        "      <th>FeatureSubtype</th>\n",
        "      <th>FeatureSubtypeIndex</th>\n",
        "      <th>FeatureType</th>\n",
        "      <th>FeatureTypeIndex</th>\n",
        "      <th>Relative Distance</th>\n",
        "    </tr>\n",
        "  </thead>\n",
        "  <tbody>\n",
        "    <tr>\n",
        "      <th>68169</th>\n",
        "      <td>     0</td>\n",
        "      <td>  G674.2</td>\n",
        "      <td> MiSeqNONOc.csv</td>\n",
        "      <td> Splice Junction Splice Junction Exon from 5'-U...</td>\n",
        "      <td>NaN</td>\n",
        "      <td> Splice Junction </td>\n",
        "      <td>  5</td>\n",
        "      <td> 0.000000</td>\n",
        "    </tr>\n",
        "    <tr>\n",
        "      <th>67605</th>\n",
        "      <td>     0</td>\n",
        "      <td>  G656.1</td>\n",
        "      <td> MiSeqNONOc.csv</td>\n",
        "      <td> Splice Junction Splice Junction Exon from 5'-U...</td>\n",
        "      <td>NaN</td>\n",
        "      <td> Splice Junction </td>\n",
        "      <td>  5</td>\n",
        "      <td> 0.000000</td>\n",
        "    </tr>\n",
        "    <tr>\n",
        "      <th>49507</th>\n",
        "      <td>     0</td>\n",
        "      <td> G3257.1</td>\n",
        "      <td> MiSeqSFPQc.csv</td>\n",
        "      <td> Splice Junction 3'-UTR to Splice Junction Exon...</td>\n",
        "      <td>NaN</td>\n",
        "      <td> Splice Junction </td>\n",
        "      <td> 73</td>\n",
        "      <td> 0.000000</td>\n",
        "    </tr>\n",
        "    <tr>\n",
        "      <th>63085</th>\n",
        "      <td>  1880</td>\n",
        "      <td>  G167.1</td>\n",
        "      <td> MiSeqNONOc.csv</td>\n",
        "      <td> Splice Junction Intron in a ncRNA to Exon in a...</td>\n",
        "      <td>NaN</td>\n",
        "      <td> Splice Junction </td>\n",
        "      <td>  4</td>\n",
        "      <td> 0.458201</td>\n",
        "    </tr>\n",
        "    <tr>\n",
        "      <th>90366</th>\n",
        "      <td> 65001</td>\n",
        "      <td> G2402.1</td>\n",
        "      <td> MiSeqNONOc.csv</td>\n",
        "      <td> Splice Junction Exon in a ncRNA to Splice Junc...</td>\n",
        "      <td>NaN</td>\n",
        "      <td> Splice Junction </td>\n",
        "      <td>  1</td>\n",
        "      <td> 0.315190</td>\n",
        "    </tr>\n",
        "  </tbody>\n",
        "</table>\n",
        "<p>5 rows \u00d7 8 columns</p>\n",
        "</div>"
       ],
       "metadata": {},
       "output_type": "pyout",
       "prompt_number": 5,
       "text": [
        "       Absolute Distance  Cluster         Dataset  \\\n",
        "68169                  0   G674.2  MiSeqNONOc.csv   \n",
        "67605                  0   G656.1  MiSeqNONOc.csv   \n",
        "49507                  0  G3257.1  MiSeqSFPQc.csv   \n",
        "63085               1880   G167.1  MiSeqNONOc.csv   \n",
        "90366              65001  G2402.1  MiSeqNONOc.csv   \n",
        "\n",
        "                                          FeatureSubtype  FeatureSubtypeIndex  \\\n",
        "68169  Splice Junction Splice Junction Exon from 5'-U...                  NaN   \n",
        "67605  Splice Junction Splice Junction Exon from 5'-U...                  NaN   \n",
        "49507  Splice Junction 3'-UTR to Splice Junction Exon...                  NaN   \n",
        "63085  Splice Junction Intron in a ncRNA to Exon in a...                  NaN   \n",
        "90366  Splice Junction Exon in a ncRNA to Splice Junc...                  NaN   \n",
        "\n",
        "            FeatureType  FeatureTypeIndex  Relative Distance  \n",
        "68169  Splice Junction                  5           0.000000  \n",
        "67605  Splice Junction                  5           0.000000  \n",
        "49507  Splice Junction                 73           0.000000  \n",
        "63085  Splice Junction                  4           0.458201  \n",
        "90366  Splice Junction                  1           0.315190  \n",
        "\n",
        "[5 rows x 8 columns]"
       ]
      }
     ],
     "prompt_number": 5
    },
    {
     "cell_type": "code",
     "collapsed": false,
     "input": [
      "import matplotlib.pyplot as plt\n",
      "%matplotlib inline\n",
      "import seaborn as sns\n"
     ],
     "language": "python",
     "metadata": {},
     "outputs": [],
     "prompt_number": 9
    },
    {
     "cell_type": "code",
     "collapsed": false,
     "input": [
      "from ggplot import *"
     ],
     "language": "python",
     "metadata": {},
     "outputs": [],
     "prompt_number": 16
    },
    {
     "cell_type": "code",
     "collapsed": false,
     "input": [
      "p=ggplot(aes(x='Relative Distance',fill='Dataset'),data=closest)+geom_density(alpha=0.5) + xlab(\"Relative distance to closest splicing junction\")+ylab(\"Density\")\n",
      "p"
     ],
     "language": "python",
     "metadata": {},
     "outputs": [
      {
       "metadata": {},
       "output_type": "pyout",
       "prompt_number": 21,
       "text": [
        "<repr(<ggplot.ggplot.ggplot at 0x10f23ea50>) failed: KeyError: 0>"
       ]
      },
      {
       "metadata": {},
       "output_type": "display_data",
       "png": "[encoded data removed]",
       "text": [
        "<matplotlib.figure.Figure at 0x10962ab50>"
       ]
      }
     ],
     "prompt_number": 21
    },
    {
     "cell_type": "code",
     "collapsed": false,
     "input": [],
     "language": "python",
     "metadata": {},
     "outputs": [],
     "prompt_number": 4
    },
    {
     "cell_type": "code",
     "collapsed": false,
     "input": [],
     "language": "python",
     "metadata": {},
     "outputs": []
    }
   ],
   "metadata": {}
  }
 ]
}